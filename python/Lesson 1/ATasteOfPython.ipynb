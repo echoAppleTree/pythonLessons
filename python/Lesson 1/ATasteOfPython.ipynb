{
 "cells": [
  {
   "cell_type": "markdown",
   "id": "c5b18ff6-38c3-4dec-922d-6c525160c061",
   "metadata": {},
   "source": [
    "# A Taste of Python\n",
    " \n",
    "## General Information\n",
    "\n",
    "### About this document\n",
    "\n",
    "This is a [Jupyter Notebook](https://jupyter.org/). This particular notebook is designed to introduce you to a few of the basic concepts of programming in Python. The contents of this document are divived into cells, which can contain Markdown formatted text, Python code, or raw text. You can execute a snippet of code in a cell by pressing **Shift-Enter**.\n",
    "\n",
    "### Structure of this document\n",
    "\n",
    "This document is the first lessons of many. Each lessons will be formatted in a similar document and all of the documents will be available on Confluence."
   ]
  },
  {
   "cell_type": "markdown",
   "id": "81aecfde-2898-4749-90a2-4a509d215b82",
   "metadata": {},
   "source": [
    "## Variables, math and functions\n",
    "\n",
    "We will start our Python lesson by learning a bit of the basic operations you can perform using Python.\n",
    "\n",
    "### Simple Python math\n",
    "\n",
    "Python can be used as a simple calculator. Remember, you can press **Shift-Enter** to execute the code in the cells below."
   ]
  },
  {
   "cell_type": "code",
   "execution_count": 3,
   "id": "47155976-62ab-425e-acf6-463b48d29f35",
   "metadata": {},
   "outputs": [
    {
     "data": {
      "text/plain": [
       "2"
      ]
     },
     "execution_count": 3,
     "metadata": {},
     "output_type": "execute_result"
    }
   ],
   "source": [
    "1 + 1"
   ]
  },
  {
   "cell_type": "code",
   "execution_count": 2,
   "id": "c2dd6099-3c1f-48b1-b99c-0104871393c4",
   "metadata": {},
   "outputs": [
    {
     "data": {
      "text/plain": [
       "35"
      ]
     },
     "execution_count": 2,
     "metadata": {},
     "output_type": "execute_result"
    }
   ],
   "source": [
    "5 * 7"
   ]
  },
  {
   "cell_type": "markdown",
   "id": "745e8eab-ad11-4ca8-8ca6-35e30b80ea8c",
   "metadata": {},
   "source": [
    "### Math Operations\n",
    "\n",
    "The list of basic arithmetic operations that can be done by default in Python is in the table below."
   ]
  },
  {
   "cell_type": "markdown",
   "id": "f383a0b6-7472-4bb3-9f46-a05b3624f636",
   "metadata": {},
   "source": [
    "| Operation | Symbol | Example Syntax | Returned Value |\n",
    "| ----------- | ----------- | ----------- | ----------- |\n",
    "| Addition | `+` | `2 + 2` | `4`\n",
    "| Substraction | `-` | `4 - 2` | `2`\n",
    "| Multiplication | `*` | `2 * 3` | `6`\n",
    "| Division | `/` | `4 / 2` | `2`\n",
    "| Exponentiation | `**` | `2 ** 3` | `8`"
   ]
  },
  {
   "cell_type": "markdown",
   "id": "5ab19b7c-2f97-4184-be8c-fd6c88da9eaf",
   "metadata": {},
   "source": [
    "For anything more advanced, we need to load a module. For math operations, this module is called math and it can be loaded by typing `import math`. "
   ]
  },
  {
   "cell_type": "code",
   "execution_count": 4,
   "id": "2be7e172-9ecc-4e7b-82f2-f16d7db99e36",
   "metadata": {},
   "outputs": [],
   "source": [
    "import math"
   ]
  },
  {
   "cell_type": "markdown",
   "id": "bb54bc47-fa7f-4f07-ae17-ea929633335a",
   "metadata": {},
   "source": [
    "Now that we have access to functions in the math module, we can use it by typing the module name, a period (dot), and the the name of the function we want to use."
   ]
  },
  {
   "cell_type": "code",
   "execution_count": 5,
   "id": "4f6cf2c2-e985-47b2-be89-3b641cb371d2",
   "metadata": {},
   "outputs": [
    {
     "data": {
      "text/plain": [
       "3.141592653589793"
      ]
     },
     "execution_count": 5,
     "metadata": {},
     "output_type": "execute_result"
    }
   ],
   "source": [
    "math.pi"
   ]
  },
  {
   "cell_type": "code",
   "execution_count": 7,
   "id": "41f34180-7d91-4acd-8352-33cfd9722fef",
   "metadata": {},
   "outputs": [
    {
     "data": {
      "text/plain": [
       "2.0"
      ]
     },
     "execution_count": 7,
     "metadata": {},
     "output_type": "execute_result"
    }
   ],
   "source": [
    "math.sqrt(4)"
   ]
  },
  {
   "cell_type": "markdown",
   "id": "4417bc6e-9087-4f90-a4a2-6accdac1913f",
   "metadata": {},
   "source": [
    "### Combining functions"
   ]
  },
  {
   "cell_type": "markdown",
   "id": "b7f07e29-fe70-4eb8-afe1-bfb4fabc6385",
   "metadata": {},
   "source": [
    "Functions can also be combined. The `print()` function returns values within the parentheses as text on the screen."
   ]
  },
  {
   "cell_type": "code",
   "execution_count": 18,
   "id": "e1dcc493-2214-4b75-8598-dbc9d2d642c4",
   "metadata": {},
   "outputs": [
    {
     "name": "stdout",
     "output_type": "stream",
     "text": [
      "2.0\n"
     ]
    }
   ],
   "source": [
    "print(math.sqrt(4))"
   ]
  },
  {
   "cell_type": "markdown",
   "id": "162ed18c-eafa-4bfa-ab2b-80dfa2f16115",
   "metadata": {},
   "source": [
    "You can also combine text with other calculated values using the `print()` function."
   ]
  },
  {
   "cell_type": "code",
   "execution_count": 15,
   "id": "b7aa2f74-c8f0-45b8-8a89-7c2002c4c006",
   "metadata": {},
   "outputs": [
    {
     "name": "stdout",
     "output_type": "stream",
     "text": [
      "The square root of 4 is 2.0\n"
     ]
    }
   ],
   "source": [
    "print('The square root of 4 is', math.sqrt(4))"
   ]
  },
  {
   "cell_type": "markdown",
   "id": "5dd63633-2389-478c-880a-7d892923e1a8",
   "metadata": {},
   "source": [
    "### Variables"
   ]
  },
  {
   "cell_type": "markdown",
   "id": "3032c3f1-0dcd-495e-8eb6-0c02118080b1",
   "metadata": {},
   "source": [
    "Variables can be used to store values calculated in expressions and used for other calculations. Assigning value to variables is straightforward. To assign a value, you simply type `variable_name = value`, where `variable_name` is the name of the variable you wish to define"
   ]
  },
  {
   "cell_type": "code",
   "execution_count": 20,
   "id": "fd9fbaae-c386-47c5-834c-e5e724f26c73",
   "metadata": {},
   "outputs": [
    {
     "name": "stdout",
     "output_type": "stream",
     "text": [
      "10.0\n"
     ]
    }
   ],
   "source": [
    "temp_celsius = 10.0\n",
    "print(temp_celsius)"
   ]
  },
  {
   "cell_type": "markdown",
   "id": "3a6771aa-6ecf-423e-9c50-5522eddfb4e8",
   "metadata": {},
   "source": [
    "As we did above, you can combine text and even use some math when printing out variable values."
   ]
  },
  {
   "cell_type": "code",
   "execution_count": 26,
   "id": "99e27039-69cd-4cc2-b066-20bd76e0bba4",
   "metadata": {},
   "outputs": [
    {
     "name": "stdout",
     "output_type": "stream",
     "text": [
      "Temperature in Fahrenheit: 50.0\n"
     ]
    }
   ],
   "source": [
    "print('Temperature in Fahrenheit:', 9/5 * temp_celsius + 32)"
   ]
  },
  {
   "cell_type": "markdown",
   "id": "f77284ae-b5f8-4325-af61-08e7c9a789cc",
   "metadata": {},
   "source": [
    "#### Updating variables\n",
    "Values stored in variables can also be updated."
   ]
  },
  {
   "cell_type": "code",
   "execution_count": 29,
   "id": "98375059-5999-43a5-ba97-9554b5a08c6a",
   "metadata": {},
   "outputs": [
    {
     "name": "stdout",
     "output_type": "stream",
     "text": [
      "temperature in Celsius is now: 15.0\n"
     ]
    }
   ],
   "source": [
    "temp_celsius = 15.0\n",
    "print('temperature in Celsius is now:' , temp_celsius)"
   ]
  },
  {
   "cell_type": "markdown",
   "id": "36a6fcae-0d2d-419a-909e-85c20241ec62",
   "metadata": {},
   "source": [
    "### Data Types\n",
    "There are 4 basis *data types* in Python as shown in the table below."
   ]
  },
  {
   "cell_type": "markdown",
   "id": "e7c17eee-2761-4c35-ba27-38512d620038",
   "metadata": {},
   "source": [
    "| Data Type Name | Data Type | Example |\n",
    "| ----------- | ----------- | ----------- |\n",
    "| `int` | Whole integer values | `4` | \n",
    "| `float` | Decimal values | `3.1415` | \n",
    "| `str` | Character strings | `Hot` |\n",
    "| `bool` | True / false values | `True` | "
   ]
  },
  {
   "cell_type": "markdown",
   "id": "77d7f1f9-bcb3-4272-94c8-9fc0c753b0f2",
   "metadata": {},
   "source": [
    "The data type can be found using the `type()` function. As you will see, the data types are important because some are not compatible with one another.\n",
    "\n",
    "Let’s define a variable `weatherForecast` and assign it the value `'Hot'`. After this, we can check its data type using the `type()` function."
   ]
  },
  {
   "cell_type": "code",
   "execution_count": 31,
   "id": "efdd7d30-dabe-47b8-a4e4-df90488f205d",
   "metadata": {},
   "outputs": [
    {
     "data": {
      "text/plain": [
       "str"
      ]
     },
     "execution_count": 31,
     "metadata": {},
     "output_type": "execute_result"
    }
   ],
   "source": [
    "weatherForecast = 'Hot'\n",
    "type(weatherForecast)"
   ]
  },
  {
   "cell_type": "markdown",
   "id": "f1c4f66e-3993-46fd-a249-58176743612a",
   "metadata": {},
   "source": [
    "## Good coding practices - Selecting \"good\" variable names\n",
    "\n",
    "This course aims to introduce you to programming in Python, but also to good programming practices. These comprise practical tips based on practices used by professional programmers that help them write better programs that are easier to understand and share with others. To say it differently, there are many ways to learn to program, and we want to help you learn how to program the right way!\n",
    "\n",
    "This week our good programming practice is about selecting “good” variable names.\n",
    "\n",
    "### Some \"not-so-good\" variable names\n",
    "To illustrate the point, consider a few not-so-good examples below."
   ]
  },
  {
   "cell_type": "code",
   "execution_count": 17,
   "id": "8e17e56d-01ca-4b3f-a79c-a25da4160acd",
   "metadata": {},
   "outputs": [],
   "source": [
    "s = \"101533\""
   ]
  },
  {
   "cell_type": "code",
   "execution_count": 19,
   "id": "4be3a99e-095d-4b21-850b-e3a15a427147",
   "metadata": {},
   "outputs": [],
   "source": [
    "sid = \"101533\""
   ]
  },
  {
   "cell_type": "code",
   "execution_count": 22,
   "id": "ef71674f-a0ff-4cb7-a3e6-70bec0c03701",
   "metadata": {},
   "outputs": [],
   "source": [
    "myUniqueIdWhenILoginAtNurun = \"101533\""
   ]
  },
  {
   "cell_type": "markdown",
   "id": "a604dac2-82b6-46be-b7d0-3c61c89ac5aa",
   "metadata": {},
   "source": [
    "### Selecting \"good\" variable names\n",
    "\n",
    "A good variable name should:\n",
    "\n",
    "1. Be clear and concise\n",
    "2. Be written in English. A general coding practice is to write code with variable names in English, as that is the most likely common language between programmers.\n",
    "3. Not contain special characters.\n",
    "4. Not conflict with any [Python keywords](https://www.pythonforbeginners.com/basics/keywords-in-python).\n"
   ]
  },
  {
   "cell_type": "code",
   "execution_count": 32,
   "id": "ad234ac6-1bd0-476a-9828-6412bf6940d4",
   "metadata": {},
   "outputs": [],
   "source": [
    "nurunId = \"101533\"\n",
    "nurunOffice = [\"Montreal\", \"Quebec\", \"Toronto\"]"
   ]
  },
  {
   "cell_type": "code",
   "execution_count": null,
   "id": "3bf9fee2-8911-47cc-834c-7d1aa0cfa04b",
   "metadata": {},
   "outputs": [],
   "source": []
  }
 ],
 "metadata": {
  "kernelspec": {
   "display_name": "Python 3 (ipykernel)",
   "language": "python",
   "name": "python3"
  },
  "language_info": {
   "codemirror_mode": {
    "name": "ipython",
    "version": 3
   },
   "file_extension": ".py",
   "mimetype": "text/x-python",
   "name": "python",
   "nbconvert_exporter": "python",
   "pygments_lexer": "ipython3",
   "version": "3.9.7"
  }
 },
 "nbformat": 4,
 "nbformat_minor": 5
}
