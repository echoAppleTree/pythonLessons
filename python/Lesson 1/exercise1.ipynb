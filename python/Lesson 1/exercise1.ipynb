{
 "cells": [
  {
   "cell_type": "markdown",
   "id": "530b8c6f-f8d9-4375-8ca2-ffa1fb364da7",
   "metadata": {},
   "source": [
    "# Exercise 1: Cooking up some Python\n",
    "\n",
    "In the “Taste of Python” lesson this week we have learned a few basic things in Python. Now you get your chance to demonstrate your skills."
   ]
  },
  {
   "cell_type": "markdown",
   "id": "da6c58b8-86dc-4d46-b265-48ff141f4e80",
   "metadata": {},
   "source": [
    "### Problem 0 - Creating your own Jupyter Notebook\n",
    "\n",
    "1. Open Jupyter lab in Anaconda Navigator.\n",
    "2. Copy the exercise1.ipynb into a folder on your compute\n",
    "3. Open the document from Jupyter Lab."
   ]
  },
  {
   "cell_type": "markdown",
   "id": "ba2ecdf4-8e93-4428-a6e2-ca5b4daafb7d",
   "metadata": {},
   "source": [
    "### Problem 1 - Defining some variables\n",
    "\n",
    "1. Create a variable called `ice_cream_rating` and use it to store an integer value (whole number) between 0 and 10 that reflects your general opinion about how much you enjoy eating ice cream.\n",
    "2. Create another variable called `sleeping_rating` and use it to store another integer between 0 and 10 that reflects your opinion about how much you enjoy sleeping.\n",
    "3. Run the cell by pressing **Shift-Enter**.\n",
    "\n"
   ]
  },
  {
   "cell_type": "code",
   "execution_count": 8,
   "id": "a01a8697-2ea3-42c7-9037-455b7a62b697",
   "metadata": {},
   "outputs": [],
   "source": [
    "# Code Here"
   ]
  },
  {
   "cell_type": "markdown",
   "id": "77724a5b-b24b-4991-b2ca-7cce823f095a",
   "metadata": {},
   "source": [
    "### Problem  2 - Reading in variable values\n",
    "1. Create a variable called `first_name` and use it to store your name.\n",
    "2. Use the `print()` function to display your `sleep_rating` and `first_name` in a sentence that make sense (E.g. \"My name is D-A and I give eating ice cream a score of 9 out of 10!\")\n",
    "3. Run the cell by pressing **Shift-Enter**"
   ]
  },
  {
   "cell_type": "code",
   "execution_count": 5,
   "id": "4d80a73c-6908-4958-bf3e-23a68f4e2875",
   "metadata": {},
   "outputs": [],
   "source": [
    "# Code Here"
   ]
  },
  {
   "cell_type": "markdown",
   "id": "6093bac0-1fb8-44c3-9c33-355f1b5a3647",
   "metadata": {},
   "source": [
    "### Problem 3 - A bit of math\n",
    "\n",
    "In order to assess happiness it is necessary to combine the ice cream and sleeping ratings. To do this:\n",
    "\n",
    "1. Calculate the average of your `ice-cream_rating` and `sleeping_rating` variables and store the resulting value in a variable called `happiness_rating`.\n",
    "2. Run the cell by pressing **Shift-Enter**."
   ]
  },
  {
   "cell_type": "code",
   "execution_count": 6,
   "id": "1827fd6b-906f-46b4-959b-846ea7f9fd96",
   "metadata": {},
   "outputs": [],
   "source": [
    "# Code Here"
   ]
  },
  {
   "cell_type": "markdown",
   "id": "4422f8cb-c4c2-4848-bcf6-ea518cec5baf",
   "metadata": {},
   "source": [
    "### Problem 4 - Checking data types\n",
    "The next step is to investigate the kinds of data we're working with. In another Python cell:\n",
    "\n",
    "1. Use a built-in Python function to check the data types of the `ice_cream_rating`, `first_name`, and `happiness_rating` variables.\n",
    "2. Run the cell by pressing **Shift-Enter**.\n"
   ]
  },
  {
   "cell_type": "code",
   "execution_count": null,
   "id": "8023dc97-0e43-4a22-a588-656868e4e6a7",
   "metadata": {},
   "outputs": [],
   "source": [
    "# Code Here"
   ]
  },
  {
   "cell_type": "markdown",
   "id": "427fe7b5-ee7b-487c-88d0-d2911554cdb4",
   "metadata": {},
   "source": [
    "### [Bonus] Problem 5 - Show your Python skills"
   ]
  },
  {
   "cell_type": "markdown",
   "id": "eb13b3fb-6247-45ba-8bdc-10dffa64de9c",
   "metadata": {},
   "source": [
    "Finally, you can use your Python skills to generate output on the screen similar to that below.\n",
    "\n",
    "`My name is D-A and I give eating ice cream a score of 9 out of 10!\n",
    "While my sleeping enjoyment rating is 8 / 10!\n",
    "Based on the factors above, my happiness rating is 8.5 out of 10, or 85.0 %!`"
   ]
  },
  {
   "cell_type": "code",
   "execution_count": null,
   "id": "8296581a-cd42-476c-a0f1-5946d0d2475a",
   "metadata": {},
   "outputs": [],
   "source": [
    "# Code Here"
   ]
  }
 ],
 "metadata": {
  "kernelspec": {
   "display_name": "Python 3 (ipykernel)",
   "language": "python",
   "name": "python3"
  },
  "language_info": {
   "codemirror_mode": {
    "name": "ipython",
    "version": 3
   },
   "file_extension": ".py",
   "mimetype": "text/x-python",
   "name": "python",
   "nbconvert_exporter": "python",
   "pygments_lexer": "ipython3",
   "version": "3.9.7"
  }
 },
 "nbformat": 4,
 "nbformat_minor": 5
}
