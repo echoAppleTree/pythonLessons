{
 "cells": [
  {
   "cell_type": "markdown",
   "metadata": {},
   "source": [
    "# Exercise 3 - Loops & Conditional Statements\n",
    "\n",
    "The exercise for this week is meant to help you better understand Loops and Conditional Statements."
   ]
  },
  {
   "cell_type": "markdown",
   "metadata": {},
   "source": [
    "## Problem 1 - Batch processing data files with a for loop\n",
    "\n",
    "This problem is meant to simulate a common problem dealing with data files: batch processing.\n",
    "\n",
    "Batch processing involves using scripts to repeat a process with many data files, and one common task is generating a list of filenames that will be processed or saved to disk."
   ]
  },
  {
   "cell_type": "markdown",
   "metadata": {},
   "source": [
    "### Part 1\n",
    "\n",
    "- Create a new variable called `basename` that contain text `\"Station\"`."
   ]
  },
  {
   "cell_type": "code",
   "execution_count": null,
   "metadata": {},
   "outputs": [],
   "source": [
    "# YOUR CODE HERE"
   ]
  },
  {
   "cell_type": "markdown",
   "metadata": {},
   "source": [
    "### Part 2\n",
    "\n",
    "- Create a new variable `filenames` that is an empty list."
   ]
  },
  {
   "cell_type": "code",
   "execution_count": null,
   "metadata": {},
   "outputs": [],
   "source": [
    "# YOUR CODE HERE"
   ]
  },
  {
   "cell_type": "markdown",
   "metadata": {},
   "source": [
    "### Part 3\n",
    "\n",
    "- Create a `for...loop` that iterate over the number range 0-20.\n",
    "- **Inside the loop** create a variable `station` that contains:\n",
    "    1. text from `basename` variable.\n",
    "    2. the number (from the iteration).\n",
    "    3. the file extension .txt\n",
    "- **Inside the loop** add the content of `station` to `filenames`.\n",
    "- Print the list `filenames`. It should look like this:\n",
    "\n",
    "`['Station_0.txt', 'Station_1.txt', 'Station_2.txt', 'Station_3.txt',\n",
    " 'Station_4.txt', 'Station_5.txt', 'Station_6.txt', 'Station_7.txt',\n",
    " 'Station_8.txt', 'Station_9.txt', 'Station_10.txt', 'Station_11.txt',\n",
    " 'Station_12.txt', 'Station_13.txt', 'Station_14.txt', 'Station_15.txt',\n",
    " 'Station_16.txt', 'Station_17.txt', 'Station_18.txt', 'Station_19.txt',\n",
    " 'Station_20.txt']`\n"
   ]
  },
  {
   "cell_type": "markdown",
   "metadata": {},
   "source": [
    "## Problem 2 - Classifying temperatures\n",
    "\n",
    "This problem is meant to introduce you to the very common and useful concept of data classification. In this problem your aim is to classify daily temperatures (in degrees Celsius) stored in the temperatures list into four different classes:\n",
    "\n",
    "- **Cold:** Temperatures below -2 degrees\n",
    "- **Slippery:** Temperatures equal to or warmer than -2 degrees and up to +2 degrees\n",
    "- **Comfortable:** Temperatures equal to or warmer than +2 degrees and up to +15 degrees\n",
    "- **Warm:** Temperatures warmer than +15 degrees"
   ]
  },
  {
   "cell_type": "markdown",
   "metadata": {},
   "source": [
    "### Data\n",
    "\n",
    "The data for this problem comprise a list of night-time, daytime and evening temperatures for April 2013 recorded at the Helsinki Malmi Airport. The list contains 90 values since there are 3 values for each day (April has 30 days). The first value of a given day represents night, the second one is for the daytime, and the third one is for the evening temperature."
   ]
  },
  {
   "cell_type": "code",
   "execution_count": 7,
   "metadata": {},
   "outputs": [],
   "source": [
    "temperatures = [-5.4, 1.0, -1.3, -4.8, 3.9, 0.1, -4.4, 4.0, -2.2, -3.9, 4.4,\n",
    "                -2.5, -4.6, 5.1, 2.1, -2.4, 1.9, -3.3, -4.8, 1.0, -0.8, -2.8,\n",
    "                -0.1, -4.7, -5.6, 2.6, -2.7, -4.6, 3.4, -0.4, -0.9, 3.1, 2.4,\n",
    "                1.6, 4.2, 3.5, 2.6, 3.1, 2.2, 1.8, 3.3, 1.6, 1.5, 4.7, 4.0,\n",
    "                3.6, 4.9, 4.8, 5.3, 5.6, 4.1, 3.7, 7.6, 6.9, 5.1, 6.4, 3.8,\n",
    "                4.0, 8.6, 4.1, 1.4, 8.9, 3.0, 1.6, 8.5, 4.7, 6.6, 8.1, 4.5,\n",
    "                4.8, 11.3, 4.7, 5.2, 11.5, 6.2, 2.9, 4.3, 2.8, 2.8, 6.3, 2.6,\n",
    "                -0.0, 7.3, 3.4, 4.7, 9.3, 6.4, 5.4, 7.6, 5.2]"
   ]
  },
  {
   "cell_type": "markdown",
   "metadata": {},
   "source": [
    "### Part 1\n",
    "\n",
    "- Create four empty lists for the different temperature classes:\n",
    "\n",
    "    - `cold`\n",
    "    - `slippery`\n",
    "    - `comfortable`\n",
    "    - `warm`"
   ]
  },
  {
   "cell_type": "code",
   "execution_count": null,
   "metadata": {},
   "outputs": [],
   "source": [
    "# YOUR CODE HERE"
   ]
  },
  {
   "cell_type": "markdown",
   "metadata": {},
   "source": [
    "### Part 2\n",
    "\n",
    "Iterate over the temperatures (using `for...loop`) and add temperatures to the different temperature classes defined below using conditional (`if, elif, else statement`):\n",
    "\n",
    "- **Cold:** Temperatures below -2 degrees\n",
    "- **Slippery:** Temperatures equal to or warmer than -2 degrees and up to +2 degrees\n",
    "- **Comfortable:** Temperatures equal to or warmer than +2 degrees and up to +15 degrees\n",
    "- **Warm:** Temperatures warmer than +15 degrees"
   ]
  },
  {
   "cell_type": "code",
   "execution_count": null,
   "metadata": {},
   "outputs": [],
   "source": [
    "# YOUR CODE HERE"
   ]
  },
  {
   "cell_type": "markdown",
   "metadata": {},
   "source": [
    "### BONUS - Part 3\n",
    "\n",
    "Please answer the following questions:\n",
    "\n",
    "- How many times was it slippery?\n",
    "\n",
    "- How many times was it warm?\n",
    "\n",
    "- What classes contains the most recorded temperatures?"
   ]
  },
  {
   "cell_type": "code",
   "execution_count": 8,
   "metadata": {},
   "outputs": [],
   "source": [
    "# YOUR CODE HERE"
   ]
  }
 ],
 "metadata": {
  "interpreter": {
   "hash": "31f2aee4e71d21fbe5cf8b01ff0e069b9275f58929596ceb00d14d90e3e16cd6"
  },
  "kernelspec": {
   "display_name": "Python 3.8.9 64-bit",
   "language": "python",
   "name": "python3"
  },
  "language_info": {
   "codemirror_mode": {
    "name": "ipython",
    "version": 3
   },
   "file_extension": ".py",
   "mimetype": "text/x-python",
   "name": "python",
   "nbconvert_exporter": "python",
   "pygments_lexer": "ipython3",
   "version": "3.8.9"
  },
  "orig_nbformat": 4
 },
 "nbformat": 4,
 "nbformat_minor": 2
}
