{
 "cells": [
  {
   "cell_type": "markdown",
   "id": "aaf54104-8079-4e45-85b6-7b9353ea128b",
   "metadata": {},
   "source": [
    "# Basic elements of Python\n",
    "\n",
    "In this lesson we will revisit data types, learn how data can be stored in Python lists, and about the concept of objects in programming.\n",
    "\n",
    "## Data types revisited\n",
    "\n",
    "### Let's start with some data\n",
    "\n",
    "We saw a bit about variables and their values in the lesson last week, and we continue today with some variables related to FMI observation stations in Finland. For each station, a number of pieces of information are given, including the name of the station, an FMI station ID number (FMISID), its latitude, its longitude, and the station type. We can store this information and some additional information for a given station in Python as follows:"
   ]
  },
  {
   "cell_type": "code",
   "execution_count": 2,
   "id": "a7319ce2-acbf-4f68-a2ce-751f8ead1f92",
   "metadata": {},
   "outputs": [],
   "source": [
    "# Name of the station\n",
    "station_name = \"Helsinki Kaivopuisto\"\n",
    "\n",
    "# Id of the station\n",
    "station_id = 132310\n",
    "\n",
    "# Latitude of the station\n",
    "station_lat = 60.15\n",
    "\n",
    "# Longitude of the station\n",
    "station_lon = 24.96\n",
    "\n",
    "# Type of station\n",
    "station_type = \"Mareographs\""
   ]
  },
  {
   "cell_type": "markdown",
   "id": "648d25d0-981c-47d2-8d40-7e77a60c90fb",
   "metadata": {},
   "source": [
    "Here we have 5 values assigned to variables related to a single observation station. Each variable has a unique name and they can store different types of data.\n",
    "\n",
    "### Reminder: Data Types and their compatibility\n",
    "\n",
    "We can explore the different types of data stored in variables using the `type()` function. Let’s use the cells below to check the data types of the variables `station_name`, `station_id`, and `station_lat`."
   ]
  },
  {
   "cell_type": "code",
   "execution_count": 3,
   "id": "d4c583aa-59af-4292-ba7b-1620cbc6e0f6",
   "metadata": {},
   "outputs": [
    {
     "data": {
      "text/plain": [
       "str"
      ]
     },
     "execution_count": 3,
     "metadata": {},
     "output_type": "execute_result"
    }
   ],
   "source": [
    "type(station_name)"
   ]
  },
  {
   "cell_type": "code",
   "execution_count": 4,
   "id": "8460b52a-42e6-4378-9f97-537c6b472299",
   "metadata": {},
   "outputs": [
    {
     "data": {
      "text/plain": [
       "int"
      ]
     },
     "execution_count": 4,
     "metadata": {},
     "output_type": "execute_result"
    }
   ],
   "source": [
    "type(station_id)"
   ]
  },
  {
   "cell_type": "code",
   "execution_count": 5,
   "id": "9283936b-79f5-423f-9325-abddc02c1aa8",
   "metadata": {},
   "outputs": [
    {
     "data": {
      "text/plain": [
       "float"
      ]
     },
     "execution_count": 5,
     "metadata": {},
     "output_type": "execute_result"
    }
   ],
   "source": [
    "type(station_lat)"
   ]
  },
  {
   "cell_type": "markdown",
   "id": "bac9b221-87ba-472b-b495-41e6d425843c",
   "metadata": {},
   "source": [
    "As expected, we see that the `station_name` is a character string, the `station_id` is an integer, and the `station_lat` is a floating point number."
   ]
  },
  {
   "cell_type": "code",
   "execution_count": 6,
   "id": "4ddfc580-4ae0-4f08-902c-72e0b023fcc2",
   "metadata": {},
   "outputs": [
    {
     "ename": "TypeError",
     "evalue": "can only concatenate str (not \"int\") to str",
     "output_type": "error",
     "traceback": [
      "\u001b[0;31m---------------------------------------------------------------------------\u001b[0m",
      "\u001b[0;31mTypeError\u001b[0m                                 Traceback (most recent call last)",
      "\u001b[0;32m/var/folders/1d/d4q5mg_d3fzcydyznd2cx4n00000gn/T/ipykernel_13325/3495446551.py\u001b[0m in \u001b[0;36m<module>\u001b[0;34m\u001b[0m\n\u001b[0;32m----> 1\u001b[0;31m \u001b[0mstation_name\u001b[0m \u001b[0;34m+\u001b[0m \u001b[0mstation_id\u001b[0m\u001b[0;34m\u001b[0m\u001b[0;34m\u001b[0m\u001b[0m\n\u001b[0m",
      "\u001b[0;31mTypeError\u001b[0m: can only concatenate str (not \"int\") to str"
     ]
    }
   ],
   "source": [
    "station_name + station_id"
   ]
  },
  {
   "cell_type": "markdown",
   "id": "bcefbc1b-7da5-4e42-969d-0e2a352c3c76",
   "metadata": {},
   "source": [
    "Here we get a `TypeError` because Python does not know to combine a string of characters (`station_name`) with an integer value (`station_id`)."
   ]
  },
  {
   "cell_type": "markdown",
   "id": "b4f2eeb4-6480-433d-861b-228c7a81b0c0",
   "metadata": {},
   "source": [
    "### Converting data from one type to another\n",
    "\n",
    "It is not the case that things like the `station_name` and `station_id` cannot be combined at all, but in order to combine a character string with a number we need to perform a data type conversion to make them compatible. Let’s convert `station_id` to a character string using the `str()` function. We can store the converted variable as `station_id_str`."
   ]
  },
  {
   "cell_type": "code",
   "execution_count": 7,
   "id": "6230ae31-4487-4542-9df7-8d678277c868",
   "metadata": {},
   "outputs": [],
   "source": [
    "station_id_str = str(station_id)"
   ]
  },
  {
   "cell_type": "markdown",
   "id": "9a0ecceb-e755-4fc7-b316-60ef36897e17",
   "metadata": {},
   "source": [
    "We can confirm the type has changed by checking the type of `station_id_str`, or by checking the output when you type the name of the variable into a cell and running it."
   ]
  },
  {
   "cell_type": "code",
   "execution_count": 8,
   "id": "3040dc3c-98a2-4d46-b57d-77a6675adc82",
   "metadata": {},
   "outputs": [
    {
     "data": {
      "text/plain": [
       "str"
      ]
     },
     "execution_count": 8,
     "metadata": {},
     "output_type": "execute_result"
    }
   ],
   "source": [
    "type(station_id_str)"
   ]
  },
  {
   "cell_type": "code",
   "execution_count": 9,
   "id": "24245bb3-ad59-481e-bbc7-c1554a79b2cc",
   "metadata": {},
   "outputs": [
    {
     "data": {
      "text/plain": [
       "'132310'"
      ]
     },
     "execution_count": 9,
     "metadata": {},
     "output_type": "execute_result"
    }
   ],
   "source": [
    "station_id_str"
   ]
  },
  {
   "cell_type": "markdown",
   "id": "fe8e2b53-9ce8-40c7-821d-0899bd57df83",
   "metadata": {},
   "source": [
    "### Combining text and numbers\n",
    "\n",
    "Although most mathematical operations operate on numerical values, a common way to combine character strings is using the addition operator +. Let’s create a text string in the variable `station_name_and_id` that is the combination of the `station_name` and `station_id` variables. Once we define `station_name_and_id`, we can print it to the screen to see the result."
   ]
  },
  {
   "cell_type": "code",
   "execution_count": 10,
   "id": "ba472066-2403-4cb5-85a8-06ac67e9c90b",
   "metadata": {},
   "outputs": [],
   "source": [
    "station_name_and_id = station_name + \": \" + str(station_id)"
   ]
  },
  {
   "cell_type": "code",
   "execution_count": 11,
   "id": "5d609234-6d6c-4a59-af15-f8bda5323713",
   "metadata": {},
   "outputs": [
    {
     "name": "stdout",
     "output_type": "stream",
     "text": [
      "Helsinki Kaivopuisto: 132310\n"
     ]
    }
   ],
   "source": [
    "print(station_name_and_id)"
   ]
  },
  {
   "cell_type": "markdown",
   "id": "c174d8a5-cc50-4e84-996f-ee2d0db28354",
   "metadata": {},
   "source": [
    "Note that here we are converting `station_id` to a character string using the `str()` function within the assignment to the variable `station_name_and_id`. Alternatively, we could have simply added `station_name` and `station_id_str`."
   ]
  },
  {
   "cell_type": "markdown",
   "id": "1d3c1d99-5d39-4d34-83ba-655d934d4a16",
   "metadata": {},
   "source": [
    "## List and indices\n",
    "\n",
    "Above we have seen a bit of data related to one of several FMI observation stations in the Helsinki area. Rather than having individual variables for each of those stations, we can store many related values in a collection. The simplest type of collection in Python is a list.\n",
    "\n",
    "### Creating a list\n",
    "\n",
    "Let's first create a list of selected `station_name` values and print it to the screen."
   ]
  },
  {
   "cell_type": "code",
   "execution_count": 12,
   "id": "22548c35-a684-4c8e-97a5-2abf833e129c",
   "metadata": {},
   "outputs": [],
   "source": [
    "station_names = ['Helsinki Harmaja', 'Helsinki Kaisaniemi', 'Helsinki Kaivopuisto', 'Helsinki Kumpula']"
   ]
  },
  {
   "cell_type": "code",
   "execution_count": 13,
   "id": "45be9240-f99c-4137-9a62-3f46517b5e68",
   "metadata": {},
   "outputs": [
    {
     "name": "stdout",
     "output_type": "stream",
     "text": [
      "['Helsinki Harmaja', 'Helsinki Kaisaniemi', 'Helsinki Kaivopuisto', 'Helsinki Kumpula']\n"
     ]
    }
   ],
   "source": [
    "print(station_names)"
   ]
  },
  {
   "cell_type": "markdown",
   "id": "f7f0b454-e596-4c2c-b248-7c05024bb198",
   "metadata": {},
   "source": [
    "We can also check the type of the station_names list using the type() function."
   ]
  },
  {
   "cell_type": "code",
   "execution_count": 14,
   "id": "49060c4e-9927-4407-8746-edd8ce23e31a",
   "metadata": {},
   "outputs": [
    {
     "data": {
      "text/plain": [
       "list"
      ]
     },
     "execution_count": 14,
     "metadata": {},
     "output_type": "execute_result"
    }
   ],
   "source": [
    "type(station_names)"
   ]
  },
  {
   "cell_type": "markdown",
   "id": "b07604f3-c295-41ca-a565-7c928e3b3b93",
   "metadata": {},
   "source": [
    "Here we have a list of 4 `station_name` values in a list called `station_names`. As you can see, the `type()` function recognizes this as a list. Lists can be created using the square brackets `[` and `]`, with commas separating the values in the list."
   ]
  },
  {
   "cell_type": "markdown",
   "id": "a25887ff-2a45-49e9-a72b-38fd8b4ecc4b",
   "metadata": {},
   "source": [
    "### Index values\n",
    "\n",
    "To access an individual value in the list we need to use an **index value**. An index value is a number that refers to a given position in the list. Let’s check out the first value in our list as an example by printing out `station_names[1]`:\n",
    "\n"
   ]
  },
  {
   "cell_type": "code",
   "execution_count": 15,
   "id": "d9a27882-fcd9-4df5-b942-74f56b679cf8",
   "metadata": {},
   "outputs": [
    {
     "name": "stdout",
     "output_type": "stream",
     "text": [
      "Helsinki Kaisaniemi\n"
     ]
    }
   ],
   "source": [
    "print(station_names[1])"
   ]
  },
  {
   "cell_type": "markdown",
   "id": "2d41b363-c659-4e2e-ba97-0196b0a859d7",
   "metadata": {},
   "source": [
    "Wait, what? This is the second value in the list we’ve created, what is wrong? As it turns out, Python (and many other programming languages) start values stored in collections with the index value 0. Thus, to get the value for the first item in the list, we must use index `0`. Let’s print out the value at index `0` of `station_names` below."
   ]
  },
  {
   "cell_type": "code",
   "execution_count": 16,
   "id": "4cd4778f-1b78-4604-85b2-e6f9504fa525",
   "metadata": {},
   "outputs": [
    {
     "name": "stdout",
     "output_type": "stream",
     "text": [
      "Helsinki Harmaja\n"
     ]
    }
   ],
   "source": [
    "print(station_names[0])"
   ]
  },
  {
   "cell_type": "code",
   "execution_count": 17,
   "id": "631be81e-5b4b-4c7c-a5da-2fa9651fda80",
   "metadata": {},
   "outputs": [
    {
     "name": "stdout",
     "output_type": "stream",
     "text": [
      "Helsinki Kumpula\n"
     ]
    }
   ],
   "source": [
    "print(station_names[-1])"
   ]
  },
  {
   "cell_type": "markdown",
   "id": "d3642a15-e98e-4cb2-8118-82e727baaf2a",
   "metadata": {},
   "source": [
    "### Number of items in a list\n",
    "\n",
    "We can find the length of a list using the `len()` function. Use it below to check the length of the `station_names` list."
   ]
  },
  {
   "cell_type": "code",
   "execution_count": 18,
   "id": "ec6f6f5f-68dd-422d-a32a-5f36acbecc9b",
   "metadata": {},
   "outputs": [
    {
     "data": {
      "text/plain": [
       "4"
      ]
     },
     "execution_count": 18,
     "metadata": {},
     "output_type": "execute_result"
    }
   ],
   "source": [
    "len(station_names)"
   ]
  },
  {
   "cell_type": "markdown",
   "id": "02c9f82f-4128-4acc-a576-b077eaf51a26",
   "metadata": {},
   "source": [
    "Just as expected, there are 4 values in our list and `len(station_names)` returns a value of `4`."
   ]
  },
  {
   "cell_type": "markdown",
   "id": "056e4eaa-244e-49e4-b11e-f527b972af29",
   "metadata": {},
   "source": [
    "### Modifying list values\n",
    "\n",
    "Another nice feature of lists is that they are mutable, meaning that the values in a list that has been defined can be modified. Consider a list of the observation station types corresponding to the station names in the `station_names` list."
   ]
  },
  {
   "cell_type": "code",
   "execution_count": 19,
   "id": "3ff750ff-da72-4ec0-ae7d-37a67d83b705",
   "metadata": {},
   "outputs": [
    {
     "name": "stdout",
     "output_type": "stream",
     "text": [
      "['Weather stations', 'Weather stations', 'Weather stations', 'Weather stations']\n"
     ]
    }
   ],
   "source": [
    "station_types = ['Weather stations', 'Weather stations', 'Weather stations', 'Weather stations']\n",
    "print(station_types)"
   ]
  },
  {
   "cell_type": "code",
   "execution_count": 20,
   "id": "8397ad11-754a-4ac2-85d8-86bac8db4891",
   "metadata": {},
   "outputs": [
    {
     "name": "stdout",
     "output_type": "stream",
     "text": [
      "['Weather stations', 'Weather stations', 'Mareographs', 'Weather stations']\n"
     ]
    }
   ],
   "source": [
    "station_types[2] = 'Mareographs'\n",
    "print(station_types)\n"
   ]
  },
  {
   "cell_type": "markdown",
   "id": "ac35247c-b327-4d48-b882-93086fa46883",
   "metadata": {},
   "source": [
    "### Data types in lists\n",
    "\n",
    "Lists can also store more than one type of data. Let’s consider that in addition to having a list of each station name, FMISID, latitude, etc. we would like to have a list of all of the values for station ‘Helsinki Kaivopuisto’."
   ]
  },
  {
   "cell_type": "code",
   "execution_count": 21,
   "id": "b5d05a27-c79b-4355-8876-0f8370335880",
   "metadata": {},
   "outputs": [
    {
     "name": "stdout",
     "output_type": "stream",
     "text": [
      "['Helsinki Kaivopuisto', 132310, 60.15, 24.96, 'Mareographs']\n"
     ]
    }
   ],
   "source": [
    "station_hel_kaivo = [station_name, station_id, station_lat, station_lon, station_type]\n",
    "print(station_hel_kaivo)"
   ]
  },
  {
   "cell_type": "markdown",
   "id": "d99b6a98-ad9b-4582-9df2-fea4a0c1b998",
   "metadata": {},
   "source": [
    "Here we have one list with 3 different types of data in it. We can confirm this using the `type()` function. Let’s check the type of `station_hel_kaivo`, then the types of the values at indices `0-2` in the cells below."
   ]
  },
  {
   "cell_type": "code",
   "execution_count": 22,
   "id": "c6312f16-5a57-4622-9415-96d32bd97ccf",
   "metadata": {},
   "outputs": [
    {
     "data": {
      "text/plain": [
       "list"
      ]
     },
     "execution_count": 22,
     "metadata": {},
     "output_type": "execute_result"
    }
   ],
   "source": [
    "type(station_hel_kaivo)"
   ]
  },
  {
   "cell_type": "code",
   "execution_count": 23,
   "id": "98e547e2-bd71-43cc-968b-c0013ec2e690",
   "metadata": {},
   "outputs": [
    {
     "data": {
      "text/plain": [
       "str"
      ]
     },
     "execution_count": 23,
     "metadata": {},
     "output_type": "execute_result"
    }
   ],
   "source": [
    "type(station_hel_kaivo[0])"
   ]
  },
  {
   "cell_type": "code",
   "execution_count": 24,
   "id": "5f5e33f5-7e10-4300-adbc-96a8222c49dc",
   "metadata": {},
   "outputs": [
    {
     "data": {
      "text/plain": [
       "int"
      ]
     },
     "execution_count": 24,
     "metadata": {},
     "output_type": "execute_result"
    }
   ],
   "source": [
    "type(station_hel_kaivo[1])"
   ]
  },
  {
   "cell_type": "code",
   "execution_count": 25,
   "id": "e2732013-3b43-4752-afa2-bb81713b5efb",
   "metadata": {},
   "outputs": [
    {
     "data": {
      "text/plain": [
       "float"
      ]
     },
     "execution_count": 25,
     "metadata": {},
     "output_type": "execute_result"
    }
   ],
   "source": [
    "type(station_hel_kaivo[2])"
   ]
  },
  {
   "cell_type": "markdown",
   "id": "27768003-7156-4d29-acf4-c73458b6ab29",
   "metadata": {},
   "source": [
    "### Addind and removing values from lists\n",
    "\n",
    "Finally, we can add and remove values from lists to change their lengths. Let’s consider that we no longer want to include the first value in the `station_names` list. Since we haven’t see that list in a bit, let’s first print it to the screen."
   ]
  },
  {
   "cell_type": "code",
   "execution_count": 26,
   "id": "7b78c95d-8368-4889-b314-019110e57ab6",
   "metadata": {},
   "outputs": [
    {
     "name": "stdout",
     "output_type": "stream",
     "text": [
      "['Helsinki Harmaja', 'Helsinki Kaisaniemi', 'Helsinki Kaivopuisto', 'Helsinki Kumpula']\n"
     ]
    }
   ],
   "source": [
    "print(station_names)"
   ]
  },
  {
   "cell_type": "markdown",
   "id": "0138311a-6739-43d7-a94d-1aa6f5038659",
   "metadata": {},
   "source": [
    "`del` allows values in lists to be removed. It can also be used to delete values from memory in Python. To remove the first value from the `station_names` list, we can simply type `del station_names[0]`. If you then print out the `station_names` list, you should see the first value has been removed.\n",
    "\n"
   ]
  },
  {
   "cell_type": "code",
   "execution_count": 27,
   "id": "5a833f58-b8fd-40f5-b343-0dcc7c16b64d",
   "metadata": {},
   "outputs": [],
   "source": [
    "del station_names[0]"
   ]
  },
  {
   "cell_type": "code",
   "execution_count": 28,
   "id": "2e40b6be-3d82-41e5-843a-180f1bdc2c87",
   "metadata": {},
   "outputs": [
    {
     "name": "stdout",
     "output_type": "stream",
     "text": [
      "['Helsinki Kaisaniemi', 'Helsinki Kaivopuisto', 'Helsinki Kumpula']\n"
     ]
    }
   ],
   "source": [
    "print(station_names)"
   ]
  },
  {
   "cell_type": "markdown",
   "id": "f7f5745d-5a11-483e-a4ef-d080f46ca66b",
   "metadata": {},
   "source": [
    "If we would instead like to add a few samples to the `station_names` list, we can type `station_names.append('List item to add')`, where `'List item to add'` would be the text that would be added to the list in this example. Let’s add two values to our list in the cells below: `'Helsinki lighthouse'` and `'Helsinki Malmi airfield'`. After doing this, let’s check the list contents by printing to the screen."
   ]
  },
  {
   "cell_type": "code",
   "execution_count": 29,
   "id": "01b0e510-aef7-44e0-9b38-b95b697c9cbb",
   "metadata": {},
   "outputs": [],
   "source": [
    "station_names.append('Helsinki lighthouse')\n",
    "station_names.append('Helsinki Malmi airfield')"
   ]
  },
  {
   "cell_type": "code",
   "execution_count": 30,
   "id": "ceb525ff-2d8b-4da7-95c6-a2418c7a1ab6",
   "metadata": {},
   "outputs": [
    {
     "name": "stdout",
     "output_type": "stream",
     "text": [
      "['Helsinki Kaisaniemi', 'Helsinki Kaivopuisto', 'Helsinki Kumpula', 'Helsinki lighthouse', 'Helsinki Malmi airfield']\n"
     ]
    }
   ],
   "source": [
    "print(station_names)"
   ]
  },
  {
   "cell_type": "markdown",
   "id": "c70cfe27-0722-475c-99a4-1d7d17c0f5f6",
   "metadata": {},
   "source": [
    "As you can see, we add values one at a time using `station_names.append()`. `list.append()` is called a method in Python, which is a function that works for a given data type (a list in this case). We’ll see some other examples of useful list mtehods below.\n",
    "\n",
    "### Some other useful list methods\n",
    "\n",
    "With lists we can do a number of useful things, such as count the number of times a value occurs in a list or where it occurs. The `list.count()` method can be used to find the number of instances of an item in a list. For instance, we can check to see how many times `'Helsinki Kumpula'` occurs in our list `station_names` by typing `station_names.count('Helsinki Kumpula')`.\n",
    "\n",
    "\n"
   ]
  },
  {
   "cell_type": "code",
   "execution_count": 31,
   "id": "2e025ec7",
   "metadata": {},
   "outputs": [
    {
     "data": {
      "text/plain": [
       "1"
      ]
     },
     "execution_count": 31,
     "metadata": {},
     "output_type": "execute_result"
    }
   ],
   "source": [
    "station_names.count('Helsinki Kumpula')"
   ]
  },
  {
   "cell_type": "markdown",
   "id": "4e738e0c",
   "metadata": {},
   "source": [
    "Similarly, we can use the `list.index()` method to find the index value of a given item in a list. Let’s use the cell below to find the index of `'Helsinki Kumpula'` in the `station_names` list."
   ]
  },
  {
   "cell_type": "code",
   "execution_count": 32,
   "id": "9251b37a",
   "metadata": {},
   "outputs": [
    {
     "data": {
      "text/plain": [
       "2"
      ]
     },
     "execution_count": 32,
     "metadata": {},
     "output_type": "execute_result"
    }
   ],
   "source": [
    "station_names.index('Helsinki Kumpula')"
   ]
  },
  {
   "cell_type": "markdown",
   "id": "cbd2d19b",
   "metadata": {},
   "source": [
    "### Reversing a list\n",
    "\n",
    "There are two other common methods for lists that we need to see. First, there is the `list.reverse()` method, used to reverse the order of items in a list. Let’s reverse our `station_names` list below and then print the results."
   ]
  },
  {
   "cell_type": "code",
   "execution_count": 33,
   "id": "078067c7",
   "metadata": {},
   "outputs": [],
   "source": [
    "station_names.reverse()"
   ]
  },
  {
   "cell_type": "code",
   "execution_count": 34,
   "id": "baf0ff8c",
   "metadata": {},
   "outputs": [
    {
     "name": "stdout",
     "output_type": "stream",
     "text": [
      "['Helsinki Malmi airfield', 'Helsinki lighthouse', 'Helsinki Kumpula', 'Helsinki Kaivopuisto', 'Helsinki Kaisaniemi']\n"
     ]
    }
   ],
   "source": [
    "print(station_names)"
   ]
  },
  {
   "cell_type": "markdown",
   "id": "919a22ea",
   "metadata": {},
   "source": [
    "### Sorting a list\n",
    "\n",
    "The `list.sort()` method works the same way. Let’s sort our `station_names` list and print its contents below."
   ]
  },
  {
   "cell_type": "code",
   "execution_count": 35,
   "id": "808b1725",
   "metadata": {},
   "outputs": [],
   "source": [
    "station_names.sort()"
   ]
  },
  {
   "cell_type": "code",
   "execution_count": 36,
   "id": "3fb41799",
   "metadata": {},
   "outputs": [
    {
     "name": "stdout",
     "output_type": "stream",
     "text": [
      "['Helsinki Kaisaniemi', 'Helsinki Kaivopuisto', 'Helsinki Kumpula', 'Helsinki Malmi airfield', 'Helsinki lighthouse']\n"
     ]
    }
   ],
   "source": [
    "print(station_names)"
   ]
  },
  {
   "cell_type": "markdown",
   "id": "597936e5",
   "metadata": {},
   "source": [
    "## Good coding practices - Describing your code\n",
    "\n",
    "This week our good programming practice is about describing your code. What we mean here is providing some descriptive text that helps the user (you in many cases) understand what the code is used for, and how certain sections work. In a Jupyter notebook, this text can take two basic forms:\n",
    "\n",
    "- **Code comments:** Text included within a code cell to help the user understand what the code is doing\n",
    "- **Markdown text:** Text in Markdown cells that provides a broader view of the code or analysis that follows.\n"
   ]
  },
  {
   "cell_type": "markdown",
   "id": "6a627f6c",
   "metadata": {},
   "source": [
    "### Describing your code\n",
    "\n",
    "Providing comments or Markdown text to describe your code is essential for a number of reasons:\n",
    "\n",
    "1. **Code descriptions make it easier to understand your code.** Although good variable names can help you and other users better understand what you code does, your Jupyter notebooks are seldom short enough for you to be able to read over the entire code at once and fully understand what is going on. For this reason, comments and Markdown text are essential parts of making sure your notebooks are easy to use and understand section by section.\n",
    "\n",
    "2. **Code descriptions make it easier for other users to use your code.** Even when writing simple software it is worthwhile to take the time to include some extra documentaion about how it works. Everyone has their own tendencies in how they write their software and by including a few comments and/or Markdown text you can make it much easier for people to understand and use your work.\n",
    "\n",
    "3. **Writing code descriptions can help you debug your code.** We’ll all soon have more experience with not knowing why some piece of code doesn’t work the way it should. One way to help fix (or debug) your code is to add comments stating what each line does. By taking things step by step, you may find that your code doesn’t actually do what you thought, and fix issues in this way.\n",
    "\n",
    "4. **Code descriptions are a big part of why Jupyter notebooks are so powerful.** Code comments are quite helpful in general, but the biggest feature of a Jupyter notebook is the ability to mix rich text with your code. With this platform you can even write scientific texts with embedded code cells to be able to perform calculations, analyze data and visualize your results. This powerful platform is an excellent open science tool that provides a clear means to reproduce your results on demand.\n"
   ]
  },
  {
   "cell_type": "markdown",
   "id": "ed3e8270",
   "metadata": {},
   "source": [
    "### Code comments\n",
    "Code comments are text within your Python software that does not get executed when the software is run. This text is mixed within the code, and often used to describe parts or all of the code work. There are two types of code comments in Python, described below.\n",
    "\n",
    "#### Line comments\n",
    "\n",
    "Line comments begin with the `#` character and everything to the right of that character will be ignored by the Python interpreter. These comments are most frequently used to describe single lines of code or a small group of related lines. Let’s have a look at an example.\n",
    "\n"
   ]
  },
  {
   "cell_type": "code",
   "execution_count": 37,
   "id": "a0e85ae4",
   "metadata": {},
   "outputs": [],
   "source": [
    "# This is a line comment. It will be ignored when this cell is run."
   ]
  },
  {
   "cell_type": "markdown",
   "id": "1ba6c45a",
   "metadata": {},
   "source": [
    "Let’s have a look at a few more examples.\n",
    "\n"
   ]
  },
  {
   "cell_type": "code",
   "execution_count": 38,
   "id": "d7dd8d0f",
   "metadata": {},
   "outputs": [
    {
     "name": "stdout",
     "output_type": "stream",
     "text": [
      "Helsinki Kumpula\n"
     ]
    }
   ],
   "source": [
    "# This list has the names of FMI observation stations in Helsinki\n",
    "station_names = ['Helsinki Harmaja', 'Helsinki Kaisaniemi', 'Helsinki Kaivopuisto', 'Helsinki Kumpula']\n",
    "\n",
    "print(station_names[-1]) # This prints the last value in the list station_names\n",
    "\n",
    "# This doesn't work, so I'm commenting it out for now\n",
    "# my_life.append(lots_of_money)"
   ]
  },
  {
   "cell_type": "markdown",
   "id": "bdd3c6fb",
   "metadata": {},
   "source": [
    "#### Block comments\n",
    "\n",
    "Block comments are similar to line comments in that they are embedded within your code and are not executed when a code cell is run. You can begin a line comment with three quotation marks `'''` and end it with the same thing, three quotation marks `'''`. Everything within the groups of quotation marks will be ignored and it does not make any difference whether you use three single `'''` or double `\"\"\"` quotation marks. Let’s see some examples.\n",
    "\n"
   ]
  },
  {
   "cell_type": "code",
   "execution_count": 39,
   "id": "f6c0638a",
   "metadata": {},
   "outputs": [
    {
     "data": {
      "text/plain": [
       "' This text will also be ignored.\\nEven if it is spread across multiple lines.\\nCool! '"
      ]
     },
     "execution_count": 39,
     "metadata": {},
     "output_type": "execute_result"
    }
   ],
   "source": [
    "\n",
    "''' This text will also be ignored.\n",
    "Even if it is spread across multiple lines.\n",
    "Cool! '''"
   ]
  },
  {
   "cell_type": "code",
   "execution_count": 40,
   "id": "2a80c4d9",
   "metadata": {},
   "outputs": [],
   "source": [
    "''' The list below contains names of FMI observation stations in Helsinki.\n",
    "More information and a complete list of stations can be found at\n",
    "https://en.ilmatieteenlaitos.fi/observation-stations '''\n",
    "station_names = ['Helsinki Harmaja', 'Helsinki Kaisaniemi', 'Helsinki Kaivopuisto', 'Helsinki Kumpula']"
   ]
  },
  {
   "cell_type": "code",
   "execution_count": 41,
   "id": "709df853",
   "metadata": {},
   "outputs": [
    {
     "data": {
      "text/plain": [
       "' None of the code below works, commenting this out for now.\\nstep_one = learn_to_code()\\nstep_two = become_programmer()\\nstep_three = ???\\nstep_four = profit()\\n'"
      ]
     },
     "execution_count": 41,
     "metadata": {},
     "output_type": "execute_result"
    }
   ],
   "source": [
    "''' None of the code below works, commenting this out for now.\n",
    "step_one = learn_to_code()\n",
    "step_two = become_programmer()\n",
    "step_three = ???\n",
    "step_four = profit()\n",
    "'''"
   ]
  },
  {
   "cell_type": "code",
   "execution_count": null,
   "id": "e0c4a898",
   "metadata": {},
   "outputs": [],
   "source": []
  }
 ],
 "metadata": {
  "kernelspec": {
   "display_name": "Python 3 (ipykernel)",
   "language": "python",
   "name": "python3"
  },
  "language_info": {
   "codemirror_mode": {
    "name": "ipython",
    "version": 3
   },
   "file_extension": ".py",
   "mimetype": "text/x-python",
   "name": "python",
   "nbconvert_exporter": "python",
   "pygments_lexer": "ipython3",
   "version": "3.9.7"
  }
 },
 "nbformat": 4,
 "nbformat_minor": 5
}
