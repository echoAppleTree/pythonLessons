{
 "cells": [
  {
   "cell_type": "markdown",
   "metadata": {},
   "source": [
    "# Exercise 2 - Lists and indices\n",
    "\n",
    "The exercise for this week is meant to help you better understand data types and lists in Python. \n",
    "\n",
    "## Where to find help\n",
    "\n",
    "- Me (Contact me via Teams)\n",
    "- [Stackoverflow](https://stackoverflow.com/)\n",
    "- [Google](https://www.google.com/)\n",
    "\n",
    "## Brief\n",
    "\n",
    "The table below presents monthly average temperatures recorded at the Helsinki Malmi airport.\n",
    "\n",
    "| Month | Temperature (Celsius) |\n",
    "| ----------- | ----------- |\n",
    "| January | -3.5 |\n",
    "| February | -4.5 | \n",
    "| March | -1.0 | \n",
    "| April | 4.0 | \n",
    "| May | 10.0 |\n",
    "| June | 15.0 |\n",
    "| July | 18.0 |\n",
    "| August | 16.0 |\n",
    "| September | 11.5 |\n",
    "| October | 6.0 |\n",
    "| November | 2.0 |\n",
    "| December | -1.5 |\n",
    "\n",
    "This table is currently distributed in a list with January being equal to the index of 0. The list is called `monthly_temperature_celsius`."
   ]
  },
  {
   "cell_type": "code",
   "execution_count": 10,
   "metadata": {},
   "outputs": [],
   "source": [
    "monthly_temperature_celsius = [-3.5, -4.5, -1.0, 4.0, 10.0, 15.0, 18.0, 16.0, 11.5, 6.0, 2.0, -1.5]"
   ]
  },
  {
   "cell_type": "markdown",
   "metadata": {},
   "source": [
    "## Problem #1 - Accessing monthly average temperatures\n",
    "\n",
    "- Print the sentence: **The average temperature in Helsinki in October is 6.0.** (Using the list `monthly_temperature_celsius`)"
   ]
  },
  {
   "cell_type": "code",
   "execution_count": null,
   "metadata": {},
   "outputs": [],
   "source": [
    "# Code Here\n"
   ]
  },
  {
   "cell_type": "markdown",
   "metadata": {},
   "source": [
    "## Problem #2 - Calculate the mean (average) of the list.\n",
    "\n",
    "- Using the function called `sum()`, calculate the mean (average) of the list to determine what was the average tempereture during the year in Helsinki.\n",
    "- Output your answer in one clear sentence."
   ]
  },
  {
   "cell_type": "code",
   "execution_count": 5,
   "metadata": {},
   "outputs": [],
   "source": [
    "# Code Here\n"
   ]
  },
  {
   "cell_type": "markdown",
   "metadata": {},
   "source": [
    "## Problem #3 - Find the maximum and minimum value\n",
    "\n",
    "- Using two functions (I won't tell you which ones), determine the maximum and minimum values of the list.\n",
    "- Output your answer in one clear sentence."
   ]
  },
  {
   "cell_type": "code",
   "execution_count": 6,
   "metadata": {},
   "outputs": [
    {
     "data": {
      "text/plain": [
       "18.0"
      ]
     },
     "execution_count": 6,
     "metadata": {},
     "output_type": "execute_result"
    }
   ],
   "source": [
    "# Code Here\n"
   ]
  },
  {
   "cell_type": "markdown",
   "metadata": {},
   "source": [
    "## Problem 4 - Conversion from Celsius to Fahrenheit\n",
    "\n",
    "- Create a new variable call `january_fahrenheit`.\n",
    "- Calculate the conversion from celcius to fahrenheit and assing the result to `january_fahrenheit`.\n",
    "- **Output:** The temperature of january is -3.5 Celsius or 25.7 Fahrenheit\n"
   ]
  },
  {
   "cell_type": "code",
   "execution_count": 11,
   "metadata": {},
   "outputs": [],
   "source": [
    "# Code Here\n"
   ]
  },
  {
   "cell_type": "markdown",
   "metadata": {},
   "source": [
    "## Bonus - Transform the list in Fahrenheit\n",
    "\n",
    "- Using the same logic from the previous problem, create a new list called `monthly_temperature_fahrenheit`.\n",
    "- The list should containt the 12 months in Fahrenheit (You already have January).\n",
    "- Like on Problem #2, output the mean of the year both in Celsius and Fahrenheit\n",
    "\n",
    "Don't use any \"Loop\" for the moment since we didn't cover them yet, we will cover them in the next lesson."
   ]
  },
  {
   "cell_type": "code",
   "execution_count": 12,
   "metadata": {},
   "outputs": [],
   "source": [
    "# Code Here\n"
   ]
  }
 ],
 "metadata": {
  "interpreter": {
   "hash": "9d9822f3f591a5ed1077fc0e60cd37d7e63d310c105a34d2cfb26144a1309e1f"
  },
  "kernelspec": {
   "display_name": "Python 3.9.7 ('base')",
   "language": "python",
   "name": "python3"
  },
  "language_info": {
   "codemirror_mode": {
    "name": "ipython",
    "version": 3
   },
   "file_extension": ".py",
   "mimetype": "text/x-python",
   "name": "python",
   "nbconvert_exporter": "python",
   "pygments_lexer": "ipython3",
   "version": "3.9.7"
  },
  "orig_nbformat": 4
 },
 "nbformat": 4,
 "nbformat_minor": 2
}
