{
 "cells": [
  {
   "cell_type": "markdown",
   "metadata": {},
   "source": [
    "# Conditional statements\n",
    "\n",
    "## Sources\n",
    "\n",
    "This lesson is based on the Software Carpentry group’s lessons on Programming with Python and McKinney’s book (2017): Python for Data Analysis.\n",
    "\n",
    "## Basics of conditional statements\n",
    "\n",
    "Conditional statements can change the code behaviour based on certain conditions. The idea is simple: IF a condition is met, THEN a set of actions is performed.\n",
    "\n",
    "### A simple conditional statement\n",
    "\n",
    "Let’s look at a simple example with temperatures, and check if temperature 17 (celsius degrees) is hot or not:\n"
   ]
  },
  {
   "cell_type": "code",
   "execution_count": 2,
   "metadata": {},
   "outputs": [
    {
     "name": "stdout",
     "output_type": "stream",
     "text": [
      "it is not hot\n"
     ]
    }
   ],
   "source": [
    "temperature = 17\n",
    "\n",
    "if temperature > 25:\n",
    "    print('it is hot')\n",
    "else:\n",
    "    print('it is not hot')"
   ]
  },
  {
   "cell_type": "markdown",
   "metadata": {},
   "source": [
    "What did we do here? First, we used the `if` and `else` statements to determine what parts of the code to execute.\n",
    "\n",
    "What do these tests do? The `if` statement checks to see whether the variable value for `temperature` is greater than 25. If this condition is met, `'it is hot'` would be written to the screen. Since 17 is smaller than 25, the code beneath `else` is executed. Code under the `else` statement will run whenever the `if` test is `False`.\n",
    "\n"
   ]
  },
  {
   "cell_type": "markdown",
   "metadata": {},
   "source": [
    "#### Let's look at another example\n",
    "\n",
    "As it turns out, we all use logic similar to `if` and `else` conditional statements daily. Imagine you’re getting ready to leave your home for the day and want to decide what to wear. You might look outside to check the weather conditions. If it is raining, you will wear a rain jacket. Otherwise, you will not. In Python we could say:"
   ]
  },
  {
   "cell_type": "code",
   "execution_count": 1,
   "metadata": {},
   "outputs": [
    {
     "name": "stdout",
     "output_type": "stream",
     "text": [
      "Wear a raincoat\n"
     ]
    }
   ],
   "source": [
    "weather = 'rain'\n",
    "\n",
    "if weather == 'rain':\n",
    "    print('Wear a raincoat')\n",
    "else:\n",
    "    print('No raincoat needed')"
   ]
  },
  {
   "cell_type": "markdown",
   "metadata": {},
   "source": [
    "Note here that we use the `==` operator to test if a value is exactly equal to another.\n",
    "\n",
    "### Comparison operators and boolean values\n",
    "\n",
    "Comparison operators such as `>` and `==` compare the values on each side of the operator. Here is the full list of operators used for value comparisons in Python:\n",
    "\n",
    "| Operator | Description | \n",
    "| ----------- | ----------- |\n",
    "| `<` | Less than |\n",
    "| `<=` | Less than or equal to | \n",
    "| `==` | Equal to |\n",
    "| `>=` | Greater than or equal to |\n",
    "| `>` | Greater than |\n",
    "| `!=` | Not equal to |"
   ]
  },
  {
   "cell_type": "markdown",
   "metadata": {},
   "source": [
    "Comparison operations yield boolean values (`True` or `False`). In Python, the words `True` and `False` are reserved for these Boolean values, and can’t be used for anything else.\n",
    "\n",
    "Let’s check the current value of the conditions we used in the previous examples:\n"
   ]
  },
  {
   "cell_type": "code",
   "execution_count": 3,
   "metadata": {},
   "outputs": [
    {
     "data": {
      "text/plain": [
       "False"
      ]
     },
     "execution_count": 3,
     "metadata": {},
     "output_type": "execute_result"
    }
   ],
   "source": [
    "temperature > 25"
   ]
  },
  {
   "cell_type": "code",
   "execution_count": 4,
   "metadata": {},
   "outputs": [
    {
     "data": {
      "text/plain": [
       "False"
      ]
     },
     "execution_count": 4,
     "metadata": {},
     "output_type": "execute_result"
    }
   ],
   "source": [
    "weather == 'Rain'"
   ]
  },
  {
   "cell_type": "markdown",
   "metadata": {},
   "source": [
    "### if, elif and else\n",
    "\n",
    "We can link several conditions together using the “else if” -statement `elif`. Python checks the `elif` and `else` statements only if previous conditions were False. You can have multiple `elif` statements to check for additional conditions.\n",
    "\n",
    "Let’s create a chain of `if` `elif` and `else` -statements that are able to tell us if the temperature is above freezing, exactly at freezing point or below freezing:"
   ]
  },
  {
   "cell_type": "code",
   "execution_count": 5,
   "metadata": {},
   "outputs": [
    {
     "name": "stdout",
     "output_type": "stream",
     "text": [
      "-3 is below freezing\n"
     ]
    }
   ],
   "source": [
    "temperature = -3\n",
    "\n",
    "if temperature > 0:\n",
    "    print(temperature, 'is above freezing')\n",
    "elif temperature == 0:\n",
    "    print(temperature, 'is freezing')\n",
    "else:\n",
    "    print(temperature, 'is below freezing')"
   ]
  },
  {
   "cell_type": "markdown",
   "metadata": {},
   "source": [
    "### Combining conditions\n",
    "\n",
    "We can also use `and` and `or` to combine multiple conditions on boolean values.\n",
    "\n",
    "\n",
    "| Keyword | Example | Description | \n",
    "| ----------- | ----------- | ----------- |\n",
    "| `amd` | a `and` b | True if both a and b are True |\n",
    "| `or` | a `or` b | True if either a or b is True |"
   ]
  },
  {
   "cell_type": "code",
   "execution_count": 6,
   "metadata": {},
   "outputs": [
    {
     "name": "stdout",
     "output_type": "stream",
     "text": [
      "At least one part is not true\n"
     ]
    }
   ],
   "source": [
    "if (1 > 0) and (-1 > 0):\n",
    "    print('Both parts are true')\n",
    "else: \n",
    "    print('At least one part is not true')"
   ]
  },
  {
   "cell_type": "code",
   "execution_count": 7,
   "metadata": {},
   "outputs": [
    {
     "name": "stdout",
     "output_type": "stream",
     "text": [
      "At least one test is true\n"
     ]
    }
   ],
   "source": [
    "if (1 > 0) or (-1 < 0):\n",
    "    print('At least one test is true')"
   ]
  },
  {
   "cell_type": "code",
   "execution_count": 8,
   "metadata": {},
   "outputs": [
    {
     "name": "stdout",
     "output_type": "stream",
     "text": [
      "Just stay at home\n"
     ]
    }
   ],
   "source": [
    "\n",
    "weather = 'rain'\n",
    "wind = 'windy'\n",
    "\n",
    "if (weather == 'rain') or (wind == 'windy'):\n",
    "    print('Just stay at home')\n",
    "else:\n",
    "    print('Go out and enjoy the weather! :)')\n"
   ]
  },
  {
   "cell_type": "markdown",
   "metadata": {},
   "source": [
    "### Combining for-loops and conditional statements\n",
    "\n",
    "Finally, we can also combine for-loops and conditional statements. Let’s iterate over a list of temperatures, and check if the temperature is hot or not:"
   ]
  },
  {
   "cell_type": "code",
   "execution_count": 9,
   "metadata": {},
   "outputs": [
    {
     "name": "stdout",
     "output_type": "stream",
     "text": [
      "0 is not hot\n",
      "12 is not hot\n",
      "17 is not hot\n",
      "28 celsius degrees is hot\n",
      "30 celsius degrees is hot\n"
     ]
    }
   ],
   "source": [
    "temperatures = [0, 12, 17, 28, 30]\n",
    "\n",
    "for temperature in temperatures:\n",
    "    if temperature > 25:\n",
    "        print(temperature, 'celsius degrees is hot')\n",
    "    else:\n",
    "        print(temperature, 'is not hot')"
   ]
  },
  {
   "cell_type": "code",
   "execution_count": null,
   "metadata": {},
   "outputs": [],
   "source": []
  }
 ],
 "metadata": {
  "interpreter": {
   "hash": "9d9822f3f591a5ed1077fc0e60cd37d7e63d310c105a34d2cfb26144a1309e1f"
  },
  "kernelspec": {
   "display_name": "Python 3.9.7 ('base')",
   "language": "python",
   "name": "python3"
  },
  "language_info": {
   "codemirror_mode": {
    "name": "ipython",
    "version": 3
   },
   "file_extension": ".py",
   "mimetype": "text/x-python",
   "name": "python",
   "nbconvert_exporter": "python",
   "pygments_lexer": "ipython3",
   "version": "3.9.7"
  },
  "orig_nbformat": 4
 },
 "nbformat": 4,
 "nbformat_minor": 2
}
